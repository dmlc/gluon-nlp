{
 "cells": [
  {
   "cell_type": "markdown",
   "metadata": {},
   "source": [
    "# Language Modeling using NLP Toolkit"
   ]
  },
  {
   "cell_type": "markdown",
   "metadata": {},
   "source": [
    "In this notebook, we will go through an example of using tools in Gluon NLP Toolkit to build a data pipeline for language model, and use pre-defined model architecture to train a standard LSTM language model.\n",
    "\n",
    "We train the model using truncated [back-propagation-through-time (BPTT)](https://en.wikipedia.org/wiki/Backpropagation_through_time)\n",
    "\n",
    "![bptt](https://upload.wikimedia.org/wikipedia/commons/e/ee/Unfold_through_time.png)"
   ]
  },
  {
   "cell_type": "markdown",
   "metadata": {},
   "source": [
    "## Preparation"
   ]
  },
  {
   "cell_type": "markdown",
   "metadata": {},
   "source": [
    "### Load gluonnlp"
   ]
  },
  {
   "cell_type": "code",
   "execution_count": 1,
   "metadata": {},
   "outputs": [],
   "source": [
    "import time\n",
    "import math\n",
    "\n",
    "import mxnet as mx\n",
    "from mxnet import gluon, autograd\n",
    "\n",
    "import gluonnlp as nlp"
   ]
  },
  {
   "cell_type": "markdown",
   "metadata": {},
   "source": [
    "### Set environment"
   ]
  },
  {
   "cell_type": "code",
   "execution_count": 2,
   "metadata": {},
   "outputs": [],
   "source": [
    "num_gpus = 1\n",
    "context = [mx.gpu(i) for i in range(num_gpus)] if num_gpus else [mx.cpu()]\n",
    "log_interval = 100"
   ]
  },
  {
   "cell_type": "markdown",
   "metadata": {},
   "source": [
    "### Set hyperparameters"
   ]
  },
  {
   "cell_type": "code",
   "execution_count": 3,
   "metadata": {},
   "outputs": [],
   "source": [
    "batch_size = 80 * len(context)\n",
    "lr = 20\n",
    "epochs = 3\n",
    "bptt = 35\n",
    "grad_clip = 0.2"
   ]
  },
  {
   "cell_type": "markdown",
   "metadata": {},
   "source": [
    "### Load dataset, extract vocabulary, numericalize, and batchify for truncated BPTT"
   ]
  },
  {
   "cell_type": "code",
   "execution_count": 4,
   "metadata": {},
   "outputs": [],
   "source": [
    "dataset_name = 'wikitext-2'\n",
    "train_dataset, val_dataset, test_dataset = [nlp.data.WikiText2(segment=segment,\n",
    "                                                               bos=None, eos='<eos>',\n",
    "                                                               skip_empty=False)\n",
    "                                            for segment in ['train', 'val', 'test']]\n",
    "\n",
    "vocab = nlp.Vocab(nlp.data.Counter(train_dataset[0]), padding_token=None, bos_token=None)\n",
    "\n",
    "train_data, val_data, test_data = [x.bptt_batchify(vocab, bptt, batch_size,\n",
    "                                                   last_batch='keep')\n",
    "                                   for x in [train_dataset, val_dataset, test_dataset]]"
   ]
  },
  {
   "cell_type": "markdown",
   "metadata": {},
   "source": [
    "### Load pre-defined language model architecture"
   ]
  },
  {
   "cell_type": "code",
   "execution_count": 5,
   "metadata": {},
   "outputs": [
    {
     "name": "stdout",
     "output_type": "stream",
     "text": [
      "StandardRNN(\n",
      "  (decoder): HybridSequential(\n",
      "    (0): Dropout(p = 0.2, axes=())\n",
      "    (1): Dense(200 -> 33278, linear)\n",
      "  )\n",
      "  (embedding): HybridSequential(\n",
      "    (0): Embedding(33278 -> 200, float32)\n",
      "    (1): Dropout(p = 0.2, axes=())\n",
      "  )\n",
      "  (encoder): LSTM(200 -> 800, TNC, num_layers=2, dropout=0.2)\n",
      ")\n",
      "Vocab(size=33278, unk=\"<unk>\", reserved=\"['<eos>']\")\n"
     ]
    }
   ],
   "source": [
    "model_name = 'standard_lstm_lm_200'\n",
    "model, vocab = nlp.model.get_model(model_name, vocab=vocab, dataset_name=None)\n",
    "print(model)\n",
    "print(vocab)"
   ]
  },
  {
   "cell_type": "code",
   "execution_count": 6,
   "metadata": {},
   "outputs": [],
   "source": [
    "model.initialize(mx.init.Xavier(), ctx=context)\n",
    "trainer = gluon.Trainer(model.collect_params(), 'sgd',\n",
    "                        {'learning_rate': lr,\n",
    "                         'momentum': 0,\n",
    "                         'wd': 0})\n",
    "loss = gluon.loss.SoftmaxCrossEntropyLoss()"
   ]
  },
  {
   "cell_type": "markdown",
   "metadata": {},
   "source": [
    "## Training"
   ]
  },
  {
   "cell_type": "markdown",
   "metadata": {},
   "source": [
    "Now that everything is ready, we can start training the model."
   ]
  },
  {
   "cell_type": "markdown",
   "metadata": {},
   "source": [
    "### Detach gradients on states for truncated BPTT"
   ]
  },
  {
   "cell_type": "code",
   "execution_count": 7,
   "metadata": {},
   "outputs": [],
   "source": [
    "def detach(hidden):\n",
    "    if isinstance(hidden, (tuple, list)):\n",
    "        hidden = [detach(i) for i in hidden]\n",
    "    else:\n",
    "        hidden = hidden.detach()\n",
    "    return hidden"
   ]
  },
  {
   "cell_type": "markdown",
   "metadata": {},
   "source": [
    "### Evaluation"
   ]
  },
  {
   "cell_type": "code",
   "execution_count": 8,
   "metadata": {},
   "outputs": [],
   "source": [
    "def evaluate(model, data_source, ctx):\n",
    "    total_L = 0.0\n",
    "    ntotal = 0\n",
    "    hidden = model.begin_state(batch_size, func=mx.nd.zeros, ctx=ctx)\n",
    "    for i, (data, target) in enumerate(data_source):\n",
    "        data = data.as_in_context(ctx)\n",
    "        target = target.as_in_context(ctx)\n",
    "        output, hidden = model(data, hidden)\n",
    "        L = loss(output.reshape(-3, -1),\n",
    "                 target.reshape(-1))\n",
    "        total_L += mx.nd.sum(L).asscalar()\n",
    "        ntotal += L.size\n",
    "    return total_L / ntotal"
   ]
  },
  {
   "cell_type": "markdown",
   "metadata": {},
   "source": [
    "### Training loop"
   ]
  },
  {
   "cell_type": "code",
   "execution_count": 9,
   "metadata": {},
   "outputs": [],
   "source": [
    "def train(model, train_data, val_data, test_data, epochs):\n",
    "    best_val = float(\"Inf\")\n",
    "    start_train_time = time.time()\n",
    "    parameters = model.collect_params().values()\n",
    "    for epoch in range(epochs):\n",
    "        total_L, n_total = 0.0, 0\n",
    "        start_epoch_time = time.time()\n",
    "        start_log_interval_time = time.time()\n",
    "        hiddens = [model.begin_state(batch_size//len(context), func=mx.nd.zeros, ctx=ctx) for ctx in context]\n",
    "        for i, (data, target) in enumerate(train_data):\n",
    "            data_list = gluon.utils.split_and_load(data, context, batch_axis=1, even_split=True)\n",
    "            target_list = gluon.utils.split_and_load(target, context, batch_axis=1, even_split=True)\n",
    "            hiddens = detach(hiddens)\n",
    "            L = 0\n",
    "            Ls = []\n",
    "            with autograd.record():\n",
    "                for j, (X, y, h) in enumerate(zip(data_list, target_list, hiddens)):\n",
    "                    output, h = model(X, h)\n",
    "                    batch_L = loss(output.reshape(-3, -1), y.reshape(-1))\n",
    "                    L = L + batch_L.as_in_context(context[0]) / X.size\n",
    "                    Ls.append(batch_L)\n",
    "                    hiddens[j] = h\n",
    "            L.backward()\n",
    "            grads = [p.grad(x.context) for p in parameters for x in data_list]\n",
    "            gluon.utils.clip_global_norm(grads, grad_clip)\n",
    "\n",
    "            trainer.step(1)\n",
    "\n",
    "            total_L += sum([mx.nd.sum(l).asscalar() for l in Ls])\n",
    "            n_total += data.size\n",
    "\n",
    "            if i % log_interval == 0 and i > 0:\n",
    "                cur_L = total_L / n_total\n",
    "                print('[Epoch %d Batch %d/%d] loss %.2f, ppl %.2f, throughput %.2f samples/s'%(\n",
    "                    epoch, i, len(train_data), cur_L, math.exp(cur_L),\n",
    "                    batch_size * log_interval / (time.time() - start_log_interval_time)))\n",
    "                total_L, n_total = 0.0, 0\n",
    "                start_log_interval_time = time.time()\n",
    "\n",
    "        mx.nd.waitall()\n",
    "\n",
    "        print('[Epoch %d] throughput %.2f samples/s'%(\n",
    "                    epoch, len(train_data)*batch_size / (time.time() - start_epoch_time)))\n",
    "        val_L = evaluate(model, val_data, context[0])\n",
    "        print('[Epoch %d] time cost %.2fs, valid loss %.2f, valid ppl %.2f'%(\n",
    "            epoch, time.time()-start_epoch_time, val_L, math.exp(val_L)))\n",
    "\n",
    "        if val_L < best_val:\n",
    "            best_val = val_L\n",
    "            test_L = evaluate(model, test_data, context[0])\n",
    "            model.save_params('{}_{}-{}.params'.format(model_name, dataset_name, epoch))\n",
    "            print('test loss %.2f, test ppl %.2f'%(test_L, math.exp(test_L)))\n",
    "        else:\n",
    "            lr = lr*0.25\n",
    "            print('Learning rate now %f'%(lr))\n",
    "            trainer.set_learning_rate(lr)\n",
    "\n",
    "    print('Total training throughput %.2f samples/s'%(\n",
    "                            (batch_size * len(train_data) * epochs) / (time.time() - start_train_time)))"
   ]
  },
  {
   "cell_type": "markdown",
   "metadata": {},
   "source": [
    "### Train and evaluate"
   ]
  },
  {
   "cell_type": "code",
   "execution_count": 10,
   "metadata": {},
   "outputs": [
    {
     "name": "stdout",
     "output_type": "stream",
     "text": [
      "[Epoch 0 Batch 100/746] loss 8.05, ppl 3129.00, throughput 1395.06 samples/s\n",
      "[Epoch 0 Batch 200/746] loss 7.24, ppl 1399.34, throughput 1895.63 samples/s\n",
      "[Epoch 0 Batch 300/746] loss 6.96, ppl 1053.46, throughput 1996.78 samples/s\n",
      "[Epoch 0 Batch 400/746] loss 6.70, ppl 813.17, throughput 1890.44 samples/s\n",
      "[Epoch 0 Batch 500/746] loss 6.50, ppl 667.19, throughput 1883.28 samples/s\n",
      "[Epoch 0 Batch 600/746] loss 6.33, ppl 563.24, throughput 1975.94 samples/s\n",
      "[Epoch 0 Batch 700/746] loss 6.22, ppl 501.24, throughput 1930.41 samples/s\n",
      "[Epoch 0] throughput 1820.23 samples/s\n",
      "[Epoch 0] time cost 36.12s, valid loss 5.90, valid ppl 366.51\n",
      "test loss 5.82, test ppl 337.05\n",
      "[Epoch 1 Batch 100/746] loss 6.10, ppl 446.92, throughput 1932.23 samples/s\n",
      "[Epoch 1 Batch 200/746] loss 6.00, ppl 404.51, throughput 1877.29 samples/s\n",
      "[Epoch 1 Batch 300/746] loss 5.94, ppl 380.40, throughput 1902.84 samples/s\n",
      "[Epoch 1 Batch 400/746] loss 5.89, ppl 362.86, throughput 1944.96 samples/s\n",
      "[Epoch 1 Batch 500/746] loss 5.79, ppl 325.73, throughput 1867.69 samples/s\n",
      "[Epoch 1 Batch 600/746] loss 5.70, ppl 298.65, throughput 1983.97 samples/s\n",
      "[Epoch 1 Batch 700/746] loss 5.64, ppl 282.85, throughput 1892.81 samples/s\n",
      "[Epoch 1] throughput 1915.09 samples/s\n",
      "[Epoch 1] time cost 34.65s, valid loss 5.53, valid ppl 251.99\n",
      "test loss 5.44, test ppl 229.78\n",
      "[Epoch 2 Batch 100/746] loss 5.63, ppl 278.83, throughput 1880.85 samples/s\n",
      "[Epoch 2 Batch 200/746] loss 5.56, ppl 259.11, throughput 1933.27 samples/s\n",
      "[Epoch 2 Batch 300/746] loss 5.52, ppl 249.74, throughput 1858.71 samples/s\n",
      "[Epoch 2 Batch 400/746] loss 5.52, ppl 249.21, throughput 1896.20 samples/s\n",
      "[Epoch 2 Batch 500/746] loss 5.42, ppl 226.61, throughput 1965.41 samples/s\n",
      "[Epoch 2 Batch 600/746] loss 5.36, ppl 212.60, throughput 1874.85 samples/s\n",
      "[Epoch 2 Batch 700/746] loss 5.33, ppl 206.46, throughput 1890.60 samples/s\n",
      "[Epoch 2] throughput 1907.40 samples/s\n",
      "[Epoch 2] time cost 34.70s, valid loss 5.26, valid ppl 192.69\n",
      "test loss 5.18, test ppl 177.32\n",
      "Total training throughput 1534.74 samples/s\n"
     ]
    }
   ],
   "source": [
    "train(model, train_data, val_data, test_data, epochs)"
   ]
  },
  {
   "cell_type": "markdown",
   "metadata": {},
   "source": [
    "## Use your own dataset"
   ]
  },
  {
   "cell_type": "code",
   "execution_count": 11,
   "metadata": {},
   "outputs": [
    {
     "name": "stdout",
     "output_type": "stream",
     "text": [
      "  % Total    % Received % Xferd  Average Speed   Time    Time     Time  Current\n",
      "                                 Dload  Upload   Total   Spent    Left  Speed\n",
      "100 4982k  100 4982k    0     0  6107k      0 --:--:-- --:--:-- --:--:-- 6105k\n",
      "  % Total    % Received % Xferd  Average Speed   Time    Time     Time  Current\n",
      "                                 Dload  Upload   Total   Spent    Left  Speed\n",
      "100  390k  100  390k    0     0  1052k      0 --:--:-- --:--:-- --:--:-- 1055k\n",
      "  % Total    % Received % Xferd  Average Speed   Time    Time     Time  Current\n",
      "                                 Dload  Upload   Total   Spent    Left  Speed\n",
      "100  439k  100  439k    0     0  1195k      0 --:--:-- --:--:-- --:--:-- 1194k\n",
      "['ptb.test.txt', 'ptb.train.txt', 'ptb.valid.txt']\n"
     ]
    }
   ],
   "source": [
    "!./get_ptb_data.sh\n",
    "ptb_dataset = !ls ptb.*.txt\n",
    "print(ptb_dataset)"
   ]
  },
  {
   "cell_type": "code",
   "execution_count": 12,
   "metadata": {},
   "outputs": [],
   "source": [
    "import nltk\n",
    "moses_tokenizer = nlp.data.NLTKMosesTokenizer()\n",
    "\n",
    "ptb_val = nlp.data.LanguageModelDataset('ptb.valid.txt',\n",
    "                                        sample_splitter=nltk.tokenize.sent_tokenize,\n",
    "                                        tokenizer=moses_tokenizer, eos='<eos>')\n",
    "\n",
    "ptb_val_data = ptb_val.bptt_batchify(vocab, bptt, batch_size, last_batch='keep')"
   ]
  },
  {
   "cell_type": "code",
   "execution_count": 13,
   "metadata": {},
   "outputs": [
    {
     "name": "stdout",
     "output_type": "stream",
     "text": [
      "Best validation loss 6.36, test ppl 575.78\n"
     ]
    }
   ],
   "source": [
    "ptb_L = evaluate(model, ptb_val_data, context[0])\n",
    "print('Best validation loss %.2f, test ppl %.2f'%(ptb_L, math.exp(ptb_L)))"
   ]
  },
  {
   "cell_type": "code",
   "execution_count": 14,
   "metadata": {},
   "outputs": [
    {
     "name": "stdout",
     "output_type": "stream",
     "text": [
      "[Epoch 0] throughput 1714.99 samples/s\n",
      "[Epoch 0] time cost 2.41s, valid loss 5.32, valid ppl 205.25\n",
      "test loss 5.32, test ppl 205.25\n",
      "[Epoch 1] throughput 1682.03 samples/s\n",
      "[Epoch 1] time cost 2.41s, valid loss 5.04, valid ppl 154.75\n",
      "test loss 5.04, test ppl 154.75\n",
      "[Epoch 2] throughput 1979.00 samples/s\n",
      "[Epoch 2] time cost 2.42s, valid loss 4.96, valid ppl 143.20\n",
      "test loss 4.96, test ppl 143.20\n",
      "Total training throughput 620.79 samples/s\n"
     ]
    }
   ],
   "source": [
    "lr = 20\n",
    "epochs = 5\n",
    "\n",
    "train(model, ptb_val_data, ptb_val_data, ptb_val_data, 3)"
   ]
  },
  {
   "cell_type": "markdown",
   "metadata": {},
   "source": [
    "## Conclusion"
   ]
  },
  {
   "cell_type": "markdown",
   "metadata": {},
   "source": [
    "- Gluon NLP Toolkit provides high-level APIs that could drastically simplify the development process of modeling for NLP tasks.\n",
    "- Low-level APIs in NLP Toolkit enables easy customization.\n",
    "\n",
    "Documentation can be found at http://gluon-nlp.s3-accelerate.dualstack.amazonaws.com/index.html"
   ]
  }
 ],
 "metadata": {
  "kernelspec": {
   "display_name": "Python 2",
   "language": "python",
   "name": "python2"
  },
  "language_info": {
   "codemirror_mode": {
    "name": "ipython",
    "version": 2
   },
   "file_extension": ".py",
   "mimetype": "text/x-python",
   "name": "python",
   "nbconvert_exporter": "python",
   "pygments_lexer": "ipython2",
   "version": "2.7.12"
  }
 },
 "nbformat": 4,
 "nbformat_minor": 2
}
